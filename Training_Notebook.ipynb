{
 "cells": [
  {
   "cell_type": "code",
   "execution_count": 1,
   "id": "53ac7043",
   "metadata": {},
   "outputs": [],
   "source": [
    "import pandas as pd\n",
    "import numpy as np\n",
    "import matplotlib.pyplot as plt\n",
    "%matplotlib inline\n",
    "import seaborn as sns\n",
    "## Display all the columns of the dataframe\n",
    "import json\n",
    "import os\n",
    "from datetime import datetime\n",
    "from pandas.tseries.holiday import USFederalHolidayCalendar\n",
    "pd.pandas.set_option('display.max_columns',None)\n",
    "from joblib import Parallel, delayed\n",
    "from sklearn.ensemble import RandomForestClassifier, AdaBoostClassifier\n",
    "from xgboost import XGBClassifier\n",
    "from sklearn.metrics import roc_auc_score\n",
    "from sklearn.model_selection import GridSearchCV\n",
    "from sklearn.model_selection import train_test_split\n",
    "from sklearn.model_selection import RandomizedSearchCV, StratifiedKFold\n",
    "from sklearn.feature_selection import SelectKBest\n",
    "from sklearn.feature_selection import chi2"
   ]
  },
  {
   "cell_type": "code",
   "execution_count": 4,
   "metadata": {},
   "outputs": [],
   "source": [
    "!pip freeze > requirements.txt"
   ]
  },
  {
   "cell_type": "code",
   "execution_count": 3,
   "id": "a372ab58",
   "metadata": {},
   "outputs": [
    {
     "name": "stdout",
     "output_type": "stream",
     "text": [
      "(261383, 3)\n"
     ]
    }
   ],
   "source": [
    "train_flag=pd.read_csv('/Users/adityakadiyan/Downloads/senior_ds_test/data/train/train_flag.csv')\n",
    "\n",
    "## print shape of dataset with rows and columns\n",
    "print(train_flag.shape)"
   ]
  },
  {
   "cell_type": "code",
   "execution_count": 5,
   "id": "647a7fe6",
   "metadata": {},
   "outputs": [],
   "source": [
    "accounts_data_path = '/Users/adityakadiyan/Downloads/senior_ds_test/data/train/accounts_data_train.json'\n",
    "enquiry_data_path = '/Users/adityakadiyan/Downloads/senior_ds_test/data/train/enquiry_data_train.json'"
   ]
  },
  {
   "cell_type": "code",
   "execution_count": 6,
   "id": "f1a62912",
   "metadata": {},
   "outputs": [],
   "source": [
    "def load_json_data(file_path):\n",
    "    # Check if the file exists\n",
    "    if not os.path.exists(file_path):\n",
    "        raise FileNotFoundError(f\"The file {file_path} does not exist.\")\n",
    "\n",
    "    try:\n",
    "        with open(file_path, 'r') as file:\n",
    "            # Load JSON data from the file\n",
    "            data = json.load(file)\n",
    "            return data\n",
    "    except json.JSONDecodeError:\n",
    "        # Handle JSON decode error (e.g., malformed JSON)\n",
    "        raise ValueError(f\"The file {file_path} is not a valid JSON file.\")\n",
    "    except PermissionError:\n",
    "        # Handle file permission error\n",
    "        raise PermissionError(f\"Permission denied when trying to read {file_path}.\")\n",
    "    except Exception as e:\n",
    "        # Handle other potential errors\n",
    "        raise IOError(f\"An error occurred while reading {file_path}: {str(e)}\")"
   ]
  },
  {
   "cell_type": "code",
   "execution_count": 7,
   "id": "22212e06",
   "metadata": {},
   "outputs": [],
   "source": [
    "accounts_data_dict = load_json_data(accounts_data_path)\n",
    "enquiry_data_dict = load_json_data(enquiry_data_path)"
   ]
  },
  {
   "cell_type": "code",
   "execution_count": 8,
   "id": "d7a83a05",
   "metadata": {},
   "outputs": [],
   "source": [
    "\n",
    "def convert_to_dataframe(data):\n",
    "\n",
    "    # Data type validation\n",
    "    if not isinstance(data, list) or not all(isinstance(inner_list, list) for inner_list in data):\n",
    "        raise TypeError(\"Input data must be a list of lists.\")\n",
    "\n",
    "    # Handle empty data\n",
    "    if not data or not any(data):\n",
    "        return pd.DataFrame()\n",
    "\n",
    "    # Flatten the nested list\n",
    "    flattened_data = []\n",
    "    for inner_list in data:\n",
    "        if inner_list:  # Skip empty inner lists\n",
    "            flattened_data.extend(inner_list)\n",
    "\n",
    "    # Create DataFrame\n",
    "    try:\n",
    "        df = pd.DataFrame(flattened_data)\n",
    "    except ValueError as ve:\n",
    "        raise ValueError(f\"Error in creating DataFrame: {ve}\")\n",
    "\n",
    "    return df\n"
   ]
  },
  {
   "cell_type": "code",
   "execution_count": 9,
   "id": "6b76fac5",
   "metadata": {},
   "outputs": [],
   "source": [
    "accounts_data = convert_to_dataframe(accounts_data_dict)\n",
    "enquiry_data = convert_to_dataframe(enquiry_data_dict)"
   ]
  },
  {
   "cell_type": "code",
   "execution_count": 11,
   "id": "5a3555b7",
   "metadata": {},
   "outputs": [],
   "source": [
    "## dropping duplicates row\n",
    "accounts_data.drop_duplicates(keep = 'first',inplace = True)\n",
    "enquiry_data.drop_duplicates(keep = 'first',inplace = True)\n",
    "train_flag.drop_duplicates(keep = 'first',inplace = True)"
   ]
  },
  {
   "cell_type": "code",
   "execution_count": 12,
   "id": "5e7c9ace",
   "metadata": {},
   "outputs": [
    {
     "name": "stdout",
     "output_type": "stream",
     "text": [
      "loan_amount 0.0  % missing values\n",
      "closed_date 0.3706  % missing values\n"
     ]
    }
   ],
   "source": [
    "features_with_na=[features for features in accounts_data.columns if accounts_data[features].isnull().sum()>1]\n",
    "## 2- step print the feature name and the percentage of missing values\n",
    "\n",
    "for feature in features_with_na:\n",
    "    print(feature, np.round(accounts_data[feature].isnull().mean(), 4),  ' % missing values')"
   ]
  },
  {
   "cell_type": "code",
   "execution_count": 13,
   "id": "7609b30d",
   "metadata": {},
   "outputs": [],
   "source": [
    "features_with_na=[features for features in enquiry_data.columns if enquiry_data[features].isnull().sum()>1]\n",
    "## 2- step print the feature name and the percentage of missing values\n",
    "\n",
    "for feature in features_with_na:\n",
    "    print(feature, np.round(enquiry_data[feature].isnull().mean(), 4),  ' % missing values')"
   ]
  },
  {
   "cell_type": "code",
   "execution_count": 14,
   "id": "732c3711",
   "metadata": {},
   "outputs": [],
   "source": [
    "features_with_na=[features for features in train_flag.columns if train_flag[features].isnull().sum()>1]\n",
    "## 2- step print the feature name and the percentage of missing values\n",
    "\n",
    "for feature in features_with_na:\n",
    "    print(feature, np.round(train_flag[feature].isnull().mean(), 4),  ' % missing values')"
   ]
  },
  {
   "cell_type": "markdown",
   "id": "7f47767e",
   "metadata": {},
   "source": [
    "# Handling Accounts_data"
   ]
  },
  {
   "cell_type": "markdown",
   "id": "df7c6479",
   "metadata": {},
   "source": [
    "## Numerical Feature"
   ]
  },
  {
   "cell_type": "code",
   "execution_count": 15,
   "id": "9c7c0ef5",
   "metadata": {},
   "outputs": [
    {
     "name": "stdout",
     "output_type": "stream",
     "text": [
      "Number of numerical variables:  2\n"
     ]
    }
   ],
   "source": [
    "numerical_features = [feature for feature in accounts_data.columns if accounts_data[feature].dtypes != 'O']\n",
    "\n",
    "print('Number of numerical variables: ', len(numerical_features))"
   ]
  },
  {
   "cell_type": "code",
   "execution_count": 16,
   "id": "de2a2a9d",
   "metadata": {},
   "outputs": [
    {
     "name": "stdout",
     "output_type": "stream",
     "text": [
      "Discrete Variables Count: 0\n"
     ]
    }
   ],
   "source": [
    "discrete_feature=[feature for feature in numerical_features if len(accounts_data[feature].unique())<25 ]\n",
    "print(\"Discrete Variables Count: {}\".format(len(discrete_feature)))"
   ]
  },
  {
   "cell_type": "code",
   "execution_count": 17,
   "id": "952ef343",
   "metadata": {},
   "outputs": [
    {
     "name": "stdout",
     "output_type": "stream",
     "text": [
      "Continuous feature Count 2\n"
     ]
    }
   ],
   "source": [
    "continuous_feature=[feature for feature in numerical_features if feature not in discrete_feature]\n",
    "print(\"Continuous feature Count {}\".format(len(continuous_feature)))"
   ]
  },
  {
   "cell_type": "code",
   "execution_count": 18,
   "id": "bb5538dd",
   "metadata": {
    "scrolled": true
   },
   "outputs": [
    {
     "data": {
      "image/png": "[encoded data removed]",
      "text/plain": [
       "<Figure size 432x288 with 1 Axes>"
      ]
     },
     "metadata": {
      "needs_background": "light"
     },
     "output_type": "display_data"
    },
    {
     "data": {
      "image/png": "[encoded data removed]",
      "text/plain": [
       "<Figure size 432x288 with 1 Axes>"
      ]
     },
     "metadata": {
      "needs_background": "light"
     },
     "output_type": "display_data"
    }
   ],
   "source": [
    "for feature in continuous_feature:\n",
    "    data=accounts_data.copy()\n",
    "    data[feature].hist(bins=25)\n",
    "    plt.xlabel(feature)\n",
    "    plt.ylabel(\"Count\")\n",
    "    plt.title(feature)\n",
    "    plt.show()"
   ]
  },
  {
   "cell_type": "code",
   "execution_count": 19,
   "id": "7d2979b7",
   "metadata": {
    "scrolled": true
   },
   "outputs": [
    {
     "data": {
      "image/png": "[encoded data removed]",
      "text/plain": [
       "<Figure size 432x288 with 1 Axes>"
      ]
     },
     "metadata": {
      "needs_background": "light"
     },
     "output_type": "display_data"
    },
    {
     "data": {
      "image/png": "[encoded data removed]",
      "text/plain": [
       "<Figure size 432x288 with 1 Axes>"
      ]
     },
     "metadata": {
      "needs_background": "light"
     },
     "output_type": "display_data"
    }
   ],
   "source": [
    "for feature in continuous_feature:\n",
    "    data=accounts_data.copy()\n",
    "    data.boxplot(column=feature)\n",
    "    plt.ylabel(feature)\n",
    "    plt.title(feature)\n",
    "    plt.show()"
   ]
  },
  {
   "cell_type": "code",
   "execution_count": 20,
   "id": "2d9731aa",
   "metadata": {},
   "outputs": [],
   "source": [
    "accounts_data['loan_amount_log'] = np.log(accounts_data['loan_amount'] + 1)\n",
    "accounts_data['amount_overdue_log'] = np.log(accounts_data['amount_overdue'] + 1)"
   ]
  },
  {
   "cell_type": "code",
   "execution_count": 21,
   "id": "bea723ff",
   "metadata": {
    "scrolled": true
   },
   "outputs": [
    {
     "data": {
      "image/png": "[encoded data removed]",
      "text/plain": [
       "<Figure size 432x288 with 1 Axes>"
      ]
     },
     "metadata": {
      "needs_background": "light"
     },
     "output_type": "display_data"
    },
    {
     "data": {
      "image/png": "[encoded data removed]",
      "text/plain": [
       "<Figure size 432x288 with 1 Axes>"
      ]
     },
     "metadata": {
      "needs_background": "light"
     },
     "output_type": "display_data"
    }
   ],
   "source": [
    "for feature in ['loan_amount_log','amount_overdue_log']:\n",
    "    data=accounts_data.copy()\n",
    "    data[feature].hist(bins=25)\n",
    "    plt.xlabel(feature)\n",
    "    plt.ylabel(\"Count\")\n",
    "    plt.title(feature)\n",
    "    plt.show()"
   ]
  },
  {
   "cell_type": "code",
   "execution_count": null,
   "id": "04a4a5c4",
   "metadata": {},
   "outputs": [],
   "source": []
  },
  {
   "cell_type": "code",
   "execution_count": 24,
   "id": "ba2d5725",
   "metadata": {},
   "outputs": [],
   "source": [
    "def take_log(data , cols):\n",
    "    try:\n",
    "        for col in cols:\n",
    "            col_name = col+'_log'\n",
    "            data[col_name] = np.log(data[col] + 1)\n",
    "        return data\n",
    "    except KeyError as e:\n",
    "        raise KeyError(f\"Column not found: {e}\")\n",
    "    except Exception as e:\n",
    "        raise Exception(f\"Error in logarithmic transformation: {e}\")\n",
    "    "
   ]
  },
  {
   "cell_type": "code",
   "execution_count": 25,
   "id": "a707088f",
   "metadata": {},
   "outputs": [],
   "source": [
    "def iqr_process(data , cols):\n",
    "    # Remove outliers\n",
    "    try:\n",
    "        for col in cols:\n",
    "            Q1 = data[col].quantile(0.25)\n",
    "            Q3 = data[col].quantile(0.75)\n",
    "            IQR = Q3 - Q1\n",
    "            data = data[~((data[col] < (Q1 - 1.5 * IQR)) | (data[col] > (Q3 + 1.5 * IQR)))]\n",
    "        return data\n",
    "    except Exception as e:\n",
    "        raise Exception(f\"Error in outlier removal: {e}\")"
   ]
  },
  {
   "cell_type": "code",
   "execution_count": 26,
   "id": "798d18a6",
   "metadata": {},
   "outputs": [],
   "source": [
    "def process_account_data(accounts_data):\n",
    "    # Input validation\n",
    "    if not isinstance(accounts_data, pd.DataFrame):\n",
    "        raise TypeError(\"Input must be a pandas DataFrame.\")\n",
    "\n",
    "    # Check for required columns\n",
    "    required_columns = ['loan_amount', 'amount_overdue', 'payment_hist_string', 'closed_date']\n",
    "    missing_columns = [col for col in required_columns if col not in accounts_data.columns]\n",
    "    if missing_columns:\n",
    "        raise ValueError(f\"Missing required columns: {missing_columns}\")\n",
    "\n",
    "    # Logarithmic transformation with error handling\n",
    "    #accounts_data = take_log(accounts_data , ['loan_amount','amount_overdue'])\n",
    "    # Remove closed loans with specific conditions\n",
    "    accounts_data = iqr_process(accounts_data , ['loan_amount_log'])\n",
    "    try:\n",
    "        accounts_data = accounts_data[~((accounts_data['payment_hist_string'].str.replace('0', '') == '') &\n",
    "                                        (accounts_data['amount_overdue'] > 0) & \n",
    "                                        accounts_data['closed_date'].notna())]\n",
    "    except KeyError as e:\n",
    "        raise KeyError(f\"Column not found: {e}\")\n",
    "    except Exception as e:\n",
    "        raise Exception(f\"Error in filtering closed loans: {e}\")\n",
    "\n",
    "    return accounts_data\n"
   ]
  },
  {
   "cell_type": "code",
   "execution_count": 27,
   "id": "6115f8c7",
   "metadata": {},
   "outputs": [],
   "source": [
    "# ## remove closed loans which have overdue amount but they always paid on time\n",
    "accounts_data = process_account_data(accounts_data)"
   ]
  },
  {
   "cell_type": "code",
   "execution_count": 31,
   "id": "0b481f53",
   "metadata": {},
   "outputs": [],
   "source": [
    "accounts_data = accounts_data.drop(['loan_amount_log','amount_overdue_log'],axis =1)"
   ]
  },
  {
   "cell_type": "code",
   "execution_count": 32,
   "id": "ce3021b7",
   "metadata": {},
   "outputs": [],
   "source": [
    "def extract_features(payment_hist, uid):\n",
    "    # Data type validation\n",
    "    if not isinstance(payment_hist, str):\n",
    "        raise TypeError(\"payment_hist must be a string.\")\n",
    "    \n",
    "    # Check if pandas is available\n",
    "    if 'pd' not in globals():\n",
    "        raise ImportError(\"pandas library is not imported.\")\n",
    "\n",
    "    # Convert payment history to integers with error handling\n",
    "    try:\n",
    "        payments = [int(payment_hist[i:i+3]) for i in range(0, len(payment_hist), 3)][::-1] if payment_hist else [0]\n",
    "    except ValueError:\n",
    "        raise ValueError(\"payment_hist contains non-numeric values.\")\n",
    "\n",
    "    total_payments = len(payments)\n",
    "    late_payments = sum(p > 0 for p in payments)\n",
    "\n",
    "    # Calculate features\n",
    "    try:\n",
    "        return {\n",
    "            'uid': uid,\n",
    "            'recent_delinquency': payments[0],\n",
    "            'max_delinquency': max(payments),\n",
    "            'avg_delinquency': sum(payments) / total_payments if total_payments else 0,\n",
    "            'late_payments': late_payments,\n",
    "            'consecutive_ontime_payments': next((i for i, p in enumerate(payments) if p > 0), total_payments),\n",
    "            'total_payments': total_payments,\n",
    "            'zero_delinquency_months': sum(p == 0 for p in payments),\n",
    "            'late_payment_proportion': late_payments / total_payments if total_payments else 0,\n",
    "            'delinquency_std_dev': pd.Series(payments).std() if total_payments > 1 else 0\n",
    "        }\n",
    "    except Exception as e:\n",
    "        raise Exception(f\"Error calculating features: {e}\")\n",
    "\n"
   ]
  },
  {
   "cell_type": "code",
   "execution_count": 33,
   "id": "9486ee8f",
   "metadata": {},
   "outputs": [],
   "source": [
    "num_cores = 4  # Adjust based on your machine's capabilities\n",
    "results = Parallel(n_jobs=num_cores)(delayed(extract_features)(\n",
    "    row.payment_hist_string, row.uid) for index, row in accounts_data.iterrows())\n",
    "\n"
   ]
  },
  {
   "cell_type": "code",
   "execution_count": 34,
   "id": "4104467a",
   "metadata": {},
   "outputs": [],
   "source": [
    "features_df = pd.DataFrame(results)"
   ]
  },
  {
   "cell_type": "code",
   "execution_count": 35,
   "id": "cfe661fa",
   "metadata": {},
   "outputs": [],
   "source": [
    "\n",
    "def aggregate_data(df, groupby_column, agg_dict):\n",
    "\n",
    "    # Input validation\n",
    "    if not isinstance(df, pd.DataFrame):\n",
    "        raise TypeError(\"Input must be a pandas DataFrame.\")\n",
    "\n",
    "    # Check for the existence of the groupby column\n",
    "    if groupby_column not in df.columns:\n",
    "        raise ValueError(f\"The groupby column '{groupby_column}' does not exist in the DataFrame.\")\n",
    "\n",
    "    # Check for the existence of the columns specified in agg_dict\n",
    "    missing_columns = [col for col in agg_dict if col not in df.columns]\n",
    "    if missing_columns:\n",
    "        raise ValueError(f\"Missing columns for aggregation: {missing_columns}\")\n",
    "\n",
    "    # Aggregation with error handling\n",
    "    try:\n",
    "        agg_data = df.groupby(groupby_column).agg(agg_dict).reset_index()\n",
    "    except Exception as e:\n",
    "        raise Exception(f\"Error during aggregation: {e}\")\n",
    "\n",
    "    return agg_data\n"
   ]
  },
  {
   "cell_type": "code",
   "execution_count": 36,
   "id": "991b8196",
   "metadata": {},
   "outputs": [],
   "source": [
    "payment_hist_features = {\n",
    "    'recent_delinquency': ['mean','median', 'max', 'min'],\n",
    "    'max_delinquency': ['mean','median', 'max', 'min'],\n",
    "    'avg_delinquency': ['mean','median'],\n",
    "    'late_payments': ['sum','median', 'mean'],\n",
    "    'consecutive_ontime_payments': ['mean','median', 'max', 'min'],\n",
    "    'total_payments': ['sum', 'median','mean'],\n",
    "    'zero_delinquency_months': ['sum', 'median','mean'],\n",
    "    'late_payment_proportion': ['mean','median'],\n",
    "    'delinquency_std_dev': ['mean','median']\n",
    "}"
   ]
  },
  {
   "cell_type": "code",
   "execution_count": 37,
   "id": "c7a30be1",
   "metadata": {},
   "outputs": [],
   "source": [
    "agg_payment_data = aggregate_data(features_df, 'uid',payment_hist_features)"
   ]
  },
  {
   "cell_type": "code",
   "execution_count": 38,
   "id": "464253ea",
   "metadata": {},
   "outputs": [],
   "source": [
    "agg_user_data = agg_payment_data"
   ]
  },
  {
   "cell_type": "code",
   "execution_count": 41,
   "id": "565eb188",
   "metadata": {},
   "outputs": [],
   "source": [
    "agg_accounts_data = accounts_data.groupby('uid')['credit_type'].value_counts().unstack(fill_value=0)\n",
    "agg_accounts_data.columns = [f'credit_type_count_{col}' for col in agg_accounts_data.columns]"
   ]
  },
  {
   "cell_type": "code",
   "execution_count": 42,
   "id": "eca63f33",
   "metadata": {},
   "outputs": [],
   "source": [
    "columns_from_training = agg_accounts_data.columns\n",
    "\n",
    "# Save to a file\n",
    "columns_from_training.to_series().to_csv('/Users/adityakadiyan/Desktop/monsoon_credit/training_columns.csv', index=False)"
   ]
  },
  {
   "cell_type": "code",
   "execution_count": 43,
   "id": "b61cef78",
   "metadata": {},
   "outputs": [],
   "source": [
    "loan_data_features = {\n",
    "    'loan_amount': ['sum', 'median','mean', 'max', 'min', 'count'],\n",
    "}"
   ]
  },
  {
   "cell_type": "code",
   "execution_count": 44,
   "id": "9dd33a30",
   "metadata": {},
   "outputs": [],
   "source": [
    "agg_loan_data = aggregate_data(accounts_data, 'uid',loan_data_features)"
   ]
  },
  {
   "cell_type": "code",
   "execution_count": 45,
   "id": "95cda7d3",
   "metadata": {},
   "outputs": [
    {
     "name": "stderr",
     "output_type": "stream",
     "text": [
      "/var/folders/tc/w74lvrns7m5445v0b2rsg0v80000gn/T/ipykernel_58402/179599844.py:2: FutureWarning: merging between different levels is deprecated and will be removed in a future version. (1 levels on the left,2 on the right)\n",
      "  agg_accounts_data = pd.merge(agg_accounts_data, agg_loan_data, on='uid', how='left')\n",
      "/opt/anaconda3/lib/python3.9/site-packages/pandas/core/generic.py:4150: PerformanceWarning: dropping on a non-lexsorted multi-index without a level parameter may impact performance.\n",
      "  obj = obj._drop_axis(labels, axis, level=level, errors=errors)\n"
     ]
    }
   ],
   "source": [
    "# Merging the loan amount data with the credit type data\n",
    "agg_accounts_data = pd.merge(agg_accounts_data, agg_loan_data, on='uid', how='left')"
   ]
  },
  {
   "cell_type": "code",
   "execution_count": 49,
   "id": "051cd719",
   "metadata": {},
   "outputs": [],
   "source": [
    "amount_overdue_features = {\n",
    "    'amount_overdue': ['sum','median', 'mean', 'max', (lambda x: (x > 0).sum()), (lambda x: (x > 0).mean())]\n",
    "}"
   ]
  },
  {
   "cell_type": "code",
   "execution_count": 50,
   "id": "bf0f1770",
   "metadata": {},
   "outputs": [],
   "source": [
    "agg_overdue_data = aggregate_data(accounts_data, 'uid',amount_overdue_features)"
   ]
  },
  {
   "cell_type": "code",
   "execution_count": 51,
   "id": "0ae9b70f",
   "metadata": {},
   "outputs": [
    {
     "name": "stderr",
     "output_type": "stream",
     "text": [
      "/var/folders/tc/w74lvrns7m5445v0b2rsg0v80000gn/T/ipykernel_58402/2645993703.py:1: FutureWarning: merging between different levels is deprecated and will be removed in a future version. (1 levels on the left,2 on the right)\n",
      "  agg_accounts_data = pd.merge(agg_accounts_data, agg_overdue_data, on='uid', how='left')\n",
      "/opt/anaconda3/lib/python3.9/site-packages/pandas/core/generic.py:4150: PerformanceWarning: dropping on a non-lexsorted multi-index without a level parameter may impact performance.\n",
      "  obj = obj._drop_axis(labels, axis, level=level, errors=errors)\n"
     ]
    }
   ],
   "source": [
    "agg_accounts_data = pd.merge(agg_accounts_data, agg_overdue_data, on='uid', how='left')"
   ]
  },
  {
   "cell_type": "code",
   "execution_count": 52,
   "id": "2af959f1",
   "metadata": {},
   "outputs": [
    {
     "name": "stderr",
     "output_type": "stream",
     "text": [
      "/var/folders/tc/w74lvrns7m5445v0b2rsg0v80000gn/T/ipykernel_58402/349839158.py:1: FutureWarning: merging between different levels is deprecated and will be removed in a future version. (1 levels on the left,2 on the right)\n",
      "  agg_user_data = pd.merge(agg_accounts_data, agg_user_data, on='uid', how='left')\n"
     ]
    }
   ],
   "source": [
    "agg_user_data = pd.merge(agg_accounts_data, agg_user_data, on='uid', how='left')"
   ]
  },
  {
   "cell_type": "code",
   "execution_count": 53,
   "id": "8ea32ec5",
   "metadata": {},
   "outputs": [
    {
     "data": {
      "text/plain": [
       "(222402, 54)"
      ]
     },
     "execution_count": 53,
     "metadata": {},
     "output_type": "execute_result"
    }
   ],
   "source": [
    "agg_user_data.shape"
   ]
  },
  {
   "cell_type": "code",
   "execution_count": 54,
   "id": "d16c97df",
   "metadata": {},
   "outputs": [],
   "source": [
    "def determine_active_status(accounts_data):\n",
    "    if 'closed_date' not in accounts_data.columns:\n",
    "        raise ValueError(\"Missing 'closed_date' column in DataFrame.\")\n",
    "    \n",
    "    accounts_data['is_active'] = accounts_data['closed_date'].isna()\n",
    "    return accounts_data\n"
   ]
  },
  {
   "cell_type": "code",
   "execution_count": 55,
   "id": "fee20b09",
   "metadata": {},
   "outputs": [],
   "source": [
    "def handle_dates_and_holidays(accounts_data):\n",
    "    if not all(col in accounts_data.columns for col in ['open_date', 'closed_date']):\n",
    "        raise ValueError(\"Missing 'open_date' or 'closed_date' columns in DataFrame.\")\n",
    "\n",
    "    accounts_data['open_date'] = pd.to_datetime(accounts_data['open_date'])\n",
    "    accounts_data['closed_date'] = pd.to_datetime(accounts_data['closed_date'])\n",
    "\n",
    "    cal = USFederalHolidayCalendar()\n",
    "    holidays = cal.holidays(start=accounts_data['open_date'].min(), end=accounts_data['closed_date'].max())\n",
    "\n",
    "    accounts_data['opened_on_holiday'] = accounts_data['open_date'].isin(holidays)\n",
    "    accounts_data['closed_on_holiday'] = accounts_data['closed_date'].isin(holidays)\n",
    "\n",
    "    return accounts_data"
   ]
  },
  {
   "cell_type": "code",
   "execution_count": 56,
   "id": "800f165d",
   "metadata": {},
   "outputs": [],
   "source": [
    "def calculate_loan_duration(accounts_data):\n",
    "    if not all(col in accounts_data.columns for col in ['open_date', 'is_active']):\n",
    "        raise ValueError(\"Missing required columns in DataFrame.\")\n",
    "\n",
    "    today = datetime.today()\n",
    "    accounts_data['loan_duration'] = accounts_data.apply(\n",
    "        lambda row: (row['closed_date'] if not row['is_active'] else today) - row['open_date'], axis=1)\n",
    "\n",
    "    accounts_data['loan_duration'] = accounts_data['loan_duration'].dt.days\n",
    "    accounts_data = accounts_data[accounts_data['loan_duration'] >= 0]\n",
    "\n",
    "    return accounts_data"
   ]
  },
  {
   "cell_type": "code",
   "execution_count": 57,
   "id": "6f8aa69f",
   "metadata": {},
   "outputs": [],
   "source": [
    "def add_date_related_features(accounts_data):\n",
    "    if 'open_date' not in accounts_data.columns:\n",
    "        raise ValueError(\"Missing 'open_date' column in DataFrame.\")\n",
    "\n",
    "    today = datetime.today()\n",
    "    accounts_data['time_since_opened'] = (today - accounts_data['open_date']).dt.days\n",
    "\n",
    "    accounts_data['open_month'] = accounts_data['open_date'].dt.month\n",
    "    accounts_data['open_quarter'] = accounts_data['open_date'].dt.quarter\n",
    "    accounts_data['open_year'] = accounts_data['open_date'].dt.year\n",
    "    accounts_data['opened_on_weekend'] = accounts_data['open_date'].dt.weekday > 4\n",
    "    return accounts_data\n"
   ]
  },
  {
   "cell_type": "code",
   "execution_count": 58,
   "id": "34e9d870",
   "metadata": {},
   "outputs": [],
   "source": [
    "def process_accounts_data(accounts_data):\n",
    "    accounts_data = determine_active_status(accounts_data)\n",
    "    accounts_data = handle_dates_and_holidays(accounts_data)\n",
    "    accounts_data = calculate_loan_duration(accounts_data)\n",
    "    accounts_data = add_date_related_features(accounts_data)\n",
    "    return accounts_data\n"
   ]
  },
  {
   "cell_type": "code",
   "execution_count": 59,
   "id": "ac922fb5",
   "metadata": {},
   "outputs": [
    {
     "name": "stderr",
     "output_type": "stream",
     "text": [
      "/var/folders/tc/w74lvrns7m5445v0b2rsg0v80000gn/T/ipykernel_58402/2032305639.py:6: SettingWithCopyWarning: \n",
      "A value is trying to be set on a copy of a slice from a DataFrame.\n",
      "Try using .loc[row_indexer,col_indexer] = value instead\n",
      "\n",
      "See the caveats in the documentation: https://pandas.pydata.org/pandas-docs/stable/user_guide/indexing.html#returning-a-view-versus-a-copy\n",
      "  accounts_data['time_since_opened'] = (today - accounts_data['open_date']).dt.days\n",
      "/var/folders/tc/w74lvrns7m5445v0b2rsg0v80000gn/T/ipykernel_58402/2032305639.py:8: SettingWithCopyWarning: \n",
      "A value is trying to be set on a copy of a slice from a DataFrame.\n",
      "Try using .loc[row_indexer,col_indexer] = value instead\n",
      "\n",
      "See the caveats in the documentation: https://pandas.pydata.org/pandas-docs/stable/user_guide/indexing.html#returning-a-view-versus-a-copy\n",
      "  accounts_data['open_month'] = accounts_data['open_date'].dt.month\n",
      "/var/folders/tc/w74lvrns7m5445v0b2rsg0v80000gn/T/ipykernel_58402/2032305639.py:9: SettingWithCopyWarning: \n",
      "A value is trying to be set on a copy of a slice from a DataFrame.\n",
      "Try using .loc[row_indexer,col_indexer] = value instead\n",
      "\n",
      "See the caveats in the documentation: https://pandas.pydata.org/pandas-docs/stable/user_guide/indexing.html#returning-a-view-versus-a-copy\n",
      "  accounts_data['open_quarter'] = accounts_data['open_date'].dt.quarter\n",
      "/var/folders/tc/w74lvrns7m5445v0b2rsg0v80000gn/T/ipykernel_58402/2032305639.py:10: SettingWithCopyWarning: \n",
      "A value is trying to be set on a copy of a slice from a DataFrame.\n",
      "Try using .loc[row_indexer,col_indexer] = value instead\n",
      "\n",
      "See the caveats in the documentation: https://pandas.pydata.org/pandas-docs/stable/user_guide/indexing.html#returning-a-view-versus-a-copy\n",
      "  accounts_data['open_year'] = accounts_data['open_date'].dt.year\n",
      "/var/folders/tc/w74lvrns7m5445v0b2rsg0v80000gn/T/ipykernel_58402/2032305639.py:11: SettingWithCopyWarning: \n",
      "A value is trying to be set on a copy of a slice from a DataFrame.\n",
      "Try using .loc[row_indexer,col_indexer] = value instead\n",
      "\n",
      "See the caveats in the documentation: https://pandas.pydata.org/pandas-docs/stable/user_guide/indexing.html#returning-a-view-versus-a-copy\n",
      "  accounts_data['opened_on_weekend'] = accounts_data['open_date'].dt.weekday > 4\n"
     ]
    }
   ],
   "source": [
    "accounts_data = process_accounts_data(accounts_data)"
   ]
  },
  {
   "cell_type": "code",
   "execution_count": 60,
   "id": "6e6d2431",
   "metadata": {},
   "outputs": [],
   "source": [
    "date_features = {\n",
    "    'is_active': 'sum',\n",
    "    'opened_on_holiday': 'sum',\n",
    "    'closed_on_holiday': 'sum',\n",
    "    'loan_duration': ['mean', 'sum', 'max'],\n",
    "    'time_since_opened': ['mean', 'max'],\n",
    "    'open_month': lambda x: x.mode()[0],\n",
    "    'open_quarter': lambda x: x.mode()[0],\n",
    "    'open_year': lambda x: x.mode()[0],\n",
    "    'opened_on_weekend': 'sum'\n",
    "}"
   ]
  },
  {
   "cell_type": "code",
   "execution_count": 61,
   "id": "309bfb7d",
   "metadata": {},
   "outputs": [],
   "source": [
    "agg_date_data = aggregate_data(accounts_data, 'uid',date_features)"
   ]
  },
  {
   "cell_type": "code",
   "execution_count": 62,
   "id": "14ec7b0b",
   "metadata": {},
   "outputs": [
    {
     "name": "stderr",
     "output_type": "stream",
     "text": [
      "/var/folders/tc/w74lvrns7m5445v0b2rsg0v80000gn/T/ipykernel_58402/328809343.py:1: FutureWarning: merging between different levels is deprecated and will be removed in a future version. (1 levels on the left,2 on the right)\n",
      "  agg_user_data = pd.merge(agg_user_data, agg_date_data, on='uid', how='left')\n",
      "/opt/anaconda3/lib/python3.9/site-packages/pandas/core/generic.py:4150: PerformanceWarning: dropping on a non-lexsorted multi-index without a level parameter may impact performance.\n",
      "  obj = obj._drop_axis(labels, axis, level=level, errors=errors)\n"
     ]
    }
   ],
   "source": [
    "agg_user_data = pd.merge(agg_user_data, agg_date_data, on='uid', how='left')"
   ]
  },
  {
   "cell_type": "code",
   "execution_count": 63,
   "id": "7d26420b",
   "metadata": {},
   "outputs": [
    {
     "data": {
      "text/plain": [
       "(222402, 66)"
      ]
     },
     "execution_count": 63,
     "metadata": {},
     "output_type": "execute_result"
    }
   ],
   "source": [
    "agg_user_data.shape"
   ]
  },
  {
   "cell_type": "code",
   "execution_count": null,
   "id": "a11d6684",
   "metadata": {},
   "outputs": [],
   "source": []
  },
  {
   "cell_type": "markdown",
   "id": "7abd3919",
   "metadata": {},
   "source": [
    "# Enquiry Data"
   ]
  },
  {
   "cell_type": "code",
   "execution_count": 64,
   "id": "9ec56e66",
   "metadata": {},
   "outputs": [
    {
     "name": "stdout",
     "output_type": "stream",
     "text": [
      "Number of numerical variables:  1\n"
     ]
    }
   ],
   "source": [
    "numerical_features = [feature for feature in enquiry_data.columns if enquiry_data[feature].dtypes != 'O']\n",
    "print('Number of numerical variables: ', len(numerical_features))"
   ]
  },
  {
   "cell_type": "code",
   "execution_count": 65,
   "id": "12c6ea87",
   "metadata": {},
   "outputs": [
    {
     "name": "stdout",
     "output_type": "stream",
     "text": [
      "Discrete Variables Count: 0\n"
     ]
    }
   ],
   "source": [
    "discrete_feature=[feature for feature in numerical_features if len(enquiry_data[feature].unique())<25 ]\n",
    "print(\"Discrete Variables Count: {}\".format(len(discrete_feature)))"
   ]
  },
  {
   "cell_type": "code",
   "execution_count": 66,
   "id": "4dc1eaf2",
   "metadata": {},
   "outputs": [
    {
     "name": "stdout",
     "output_type": "stream",
     "text": [
      "Continuous feature Count 1\n"
     ]
    }
   ],
   "source": [
    "continuous_feature=[feature for feature in numerical_features if feature not in discrete_feature]\n",
    "print(\"Continuous feature Count {}\".format(len(continuous_feature)))"
   ]
  },
  {
   "cell_type": "code",
   "execution_count": 67,
   "id": "d834fba1",
   "metadata": {
    "scrolled": true
   },
   "outputs": [
    {
     "data": {
      "image/png": "[encoded data removed]",
      "text/plain": [
       "<Figure size 432x288 with 1 Axes>"
      ]
     },
     "metadata": {
      "needs_background": "light"
     },
     "output_type": "display_data"
    }
   ],
   "source": [
    "for feature in continuous_feature:\n",
    "    data=enquiry_data.copy()\n",
    "    data[feature].hist(bins=25)\n",
    "    plt.xlabel(feature)\n",
    "    plt.ylabel(\"Count\")\n",
    "    plt.title(feature)\n",
    "    plt.show()"
   ]
  },
  {
   "cell_type": "code",
   "execution_count": 68,
   "id": "7d20df95",
   "metadata": {
    "scrolled": true
   },
   "outputs": [
    {
     "data": {
      "image/png": "[encoded data removed]",
      "text/plain": [
       "<Figure size 432x288 with 1 Axes>"
      ]
     },
     "metadata": {
      "needs_background": "light"
     },
     "output_type": "display_data"
    }
   ],
   "source": [
    "for feature in continuous_feature:\n",
    "    data=enquiry_data.copy()\n",
    "    data.boxplot(column=feature)\n",
    "    plt.ylabel(feature)\n",
    "    plt.title(feature)\n",
    "    plt.show()"
   ]
  },
  {
   "cell_type": "code",
   "execution_count": 69,
   "id": "a63e0178",
   "metadata": {},
   "outputs": [],
   "source": [
    "enquiry_data['enquiry_amt_log'] = np.log(enquiry_data['enquiry_amt'] + 1)\n"
   ]
  },
  {
   "cell_type": "code",
   "execution_count": 70,
   "id": "90bdec78",
   "metadata": {
    "scrolled": true
   },
   "outputs": [
    {
     "data": {
      "image/png": "[encoded data removed]",
      "text/plain": [
       "<Figure size 432x288 with 1 Axes>"
      ]
     },
     "metadata": {
      "needs_background": "light"
     },
     "output_type": "display_data"
    }
   ],
   "source": [
    "for feature in ['enquiry_amt_log']:\n",
    "    data=enquiry_data.copy()\n",
    "    data[feature].hist(bins=25)\n",
    "    plt.xlabel(feature)\n",
    "    plt.ylabel(\"Count\")\n",
    "    plt.title(feature)\n",
    "    plt.show()"
   ]
  },
  {
   "cell_type": "markdown",
   "id": "896e5a5b",
   "metadata": {},
   "source": [
    "## Categorical Variables"
   ]
  },
  {
   "cell_type": "code",
   "execution_count": 71,
   "id": "cbc91929",
   "metadata": {},
   "outputs": [],
   "source": [
    "categorical_features=[feature for feature in enquiry_data.columns if enquiry_data[feature].dtypes=='O']\n"
   ]
  },
  {
   "cell_type": "code",
   "execution_count": 72,
   "id": "a5885c9e",
   "metadata": {
    "scrolled": true
   },
   "outputs": [
    {
     "name": "stdout",
     "output_type": "stream",
     "text": [
      "The feature is enquiry_type and number of categories are 17\n",
      "The feature is enquiry_date and number of categories are 1776\n",
      "The feature is uid and number of categories are 261383\n"
     ]
    }
   ],
   "source": [
    "for feature in categorical_features:\n",
    "    print('The feature is {} and number of categories are {}'.format(feature,len(enquiry_data[feature].unique())))"
   ]
  },
  {
   "cell_type": "code",
   "execution_count": 73,
   "id": "cc910ced",
   "metadata": {},
   "outputs": [],
   "source": [
    "agg_enquiry_type_data = enquiry_data.groupby('uid')['enquiry_type'].value_counts().unstack(fill_value=0)\n",
    "agg_enquiry_type_data.columns = [f'enquiry_type_count_{col}' for col in agg_enquiry_type_data.columns]"
   ]
  },
  {
   "cell_type": "code",
   "execution_count": 74,
   "id": "83549101",
   "metadata": {},
   "outputs": [],
   "source": [
    "enquiry_amt_features = {\n",
    "    'enquiry_amt': ['sum', 'median','mean', 'max', 'min', 'count'],\n",
    "}"
   ]
  },
  {
   "cell_type": "code",
   "execution_count": 75,
   "id": "78d834d6",
   "metadata": {},
   "outputs": [],
   "source": [
    "agg_amt_data = aggregate_data(enquiry_data, 'uid',enquiry_amt_features)"
   ]
  },
  {
   "cell_type": "code",
   "execution_count": 76,
   "id": "0dc6e936",
   "metadata": {},
   "outputs": [
    {
     "name": "stderr",
     "output_type": "stream",
     "text": [
      "/var/folders/tc/w74lvrns7m5445v0b2rsg0v80000gn/T/ipykernel_58402/1364901562.py:2: FutureWarning: merging between different levels is deprecated and will be removed in a future version. (1 levels on the left,2 on the right)\n",
      "  agg_enquiry_type_data = pd.merge(agg_enquiry_type_data, agg_amt_data, on='uid', how='left')\n",
      "/opt/anaconda3/lib/python3.9/site-packages/pandas/core/generic.py:4150: PerformanceWarning: dropping on a non-lexsorted multi-index without a level parameter may impact performance.\n",
      "  obj = obj._drop_axis(labels, axis, level=level, errors=errors)\n"
     ]
    }
   ],
   "source": [
    "# Merging the loan amount data with the credit type data\n",
    "agg_enquiry_type_data = pd.merge(agg_enquiry_type_data, agg_amt_data, on='uid', how='left')"
   ]
  },
  {
   "cell_type": "code",
   "execution_count": 77,
   "id": "0e785fbc",
   "metadata": {},
   "outputs": [
    {
     "data": {
      "text/plain": [
       "(261383, 24)"
      ]
     },
     "execution_count": 77,
     "metadata": {},
     "output_type": "execute_result"
    }
   ],
   "source": [
    "agg_enquiry_type_data.shape"
   ]
  },
  {
   "cell_type": "code",
   "execution_count": 78,
   "id": "4cfe9c2b",
   "metadata": {},
   "outputs": [],
   "source": [
    "def process_enquiry_data(enquiry_data):\n",
    "    # Input validation\n",
    "    if not isinstance(enquiry_data, pd.DataFrame):\n",
    "        raise TypeError(\"Input must be a pandas DataFrame.\")\n",
    "\n",
    "    # Check for the existence of the enquiry_date column\n",
    "    if 'enquiry_date' not in enquiry_data.columns:\n",
    "        raise ValueError(\"Missing 'enquiry_date' column in DataFrame.\")\n",
    "\n",
    "    try:\n",
    "        # Convert enquiry_date to datetime\n",
    "        enquiry_data['enquiry_date'] = pd.to_datetime(enquiry_data['enquiry_date'])\n",
    "\n",
    "        # Calculate days since enquiry\n",
    "        today = datetime.today()\n",
    "        enquiry_data['days_since_enquiry'] = (today - enquiry_data['enquiry_date']).dt.days\n",
    "\n",
    "        # Extract month, quarter, and year\n",
    "        enquiry_data['enquiry_month'] = enquiry_data['enquiry_date'].dt.month\n",
    "        enquiry_data['enquiry_quarter'] = enquiry_data['enquiry_date'].dt.quarter\n",
    "        enquiry_data['enquiry_year'] = enquiry_data['enquiry_date'].dt.year\n",
    "\n",
    "        # Determine if the enquiry was made on a weekend\n",
    "        enquiry_data['enquiry_on_weekend'] = enquiry_data['enquiry_date'].dt.weekday > 4\n",
    "\n",
    "        # Handle potential negative days (future dates)\n",
    "        if enquiry_data['days_since_enquiry'].min() < 0:\n",
    "            raise ValueError(\"Enquiry data contains future dates.\")\n",
    "    except Exception as e:\n",
    "        raise Exception(f\"Error processing enquiry data: {e}\")\n",
    "\n",
    "    return enquiry_data\n"
   ]
  },
  {
   "cell_type": "code",
   "execution_count": 79,
   "id": "c5a6ca14",
   "metadata": {},
   "outputs": [],
   "source": [
    "enquiry_data = process_enquiry_data(enquiry_data)"
   ]
  },
  {
   "cell_type": "code",
   "execution_count": 80,
   "id": "8092bb30",
   "metadata": {},
   "outputs": [],
   "source": [
    "enquiry_date_features = {\n",
    "    'days_since_enquiry_time': ['mean', 'max'],\n",
    "    'enquiry_month': lambda x: x.mode()[0],\n",
    "    'enquiry_quarter': lambda x: x.mode()[0],\n",
    "    'enquiry_year': lambda x: x.mode()[0],\n",
    "    'enquiry_on_weekend': 'sum'\n",
    "}"
   ]
  },
  {
   "cell_type": "code",
   "execution_count": 81,
   "id": "53f8dcda",
   "metadata": {},
   "outputs": [],
   "source": [
    "agg_enquiry_date_data = aggregate_data(enquiry_data, 'uid',enquiry_amt_features)"
   ]
  },
  {
   "cell_type": "code",
   "execution_count": 82,
   "id": "2beb9398",
   "metadata": {},
   "outputs": [
    {
     "name": "stderr",
     "output_type": "stream",
     "text": [
      "/var/folders/tc/w74lvrns7m5445v0b2rsg0v80000gn/T/ipykernel_58402/2448534338.py:1: FutureWarning: merging between different levels is deprecated and will be removed in a future version. (1 levels on the left,2 on the right)\n",
      "  agg_enquiry_type_data = pd.merge(agg_enquiry_type_data, agg_enquiry_date_data, on='uid', how='left')\n"
     ]
    }
   ],
   "source": [
    "agg_enquiry_type_data = pd.merge(agg_enquiry_type_data, agg_enquiry_date_data, on='uid', how='left')"
   ]
  },
  {
   "cell_type": "code",
   "execution_count": 83,
   "id": "681916b1",
   "metadata": {},
   "outputs": [],
   "source": [
    "agg_uids_history = pd.merge(agg_enquiry_type_data,agg_user_data,on='uid', how = 'left').fillna(0)"
   ]
  },
  {
   "cell_type": "code",
   "execution_count": 87,
   "id": "9045314a",
   "metadata": {},
   "outputs": [],
   "source": [
    "train_flag = pd.merge(train_flag,agg_uids_history ,on = 'uid', how = 'left' )"
   ]
  },
  {
   "cell_type": "code",
   "execution_count": 90,
   "id": "324275d4",
   "metadata": {},
   "outputs": [],
   "source": [
    "train_flag.columns = [str(col) for col in train_flag.columns]\n"
   ]
  },
  {
   "cell_type": "code",
   "execution_count": 116,
   "id": "6fda14fb",
   "metadata": {},
   "outputs": [
    {
     "name": "stderr",
     "output_type": "stream",
     "text": [
      "/var/folders/tc/w74lvrns7m5445v0b2rsg0v80000gn/T/ipykernel_58402/2964543600.py:1: FutureWarning: The default value of regex will change from True to False in a future version. In addition, single character regular expressions will *not* be treated as literal strings when regex=True.\n",
      "  train_flag.columns = train_flag.columns.astype(str).str.replace(\n"
     ]
    }
   ],
   "source": [
    "train_flag.columns = train_flag.columns.astype(str).str.replace(\n",
    "    '[', '').str.replace(']', '').str.replace('<', '').str.replace('>', '').str.replace(\n",
    "    '(', '').str.replace(')', '').str.replace('\"', '').str.replace(\"'\", '').str.replace(\n",
    "    ',', '_').str.replace('lambda', '').str.replace(' ', '_')"
   ]
  },
  {
   "cell_type": "code",
   "execution_count": 108,
   "id": "5442289c",
   "metadata": {},
   "outputs": [],
   "source": [
    "columns_from_training = train_flag.columns\n",
    "\n",
    "# Save to a file\n",
    "columns_from_training.to_series().to_csv('/Users/adityakadiyan/Desktop/monsoon_credit/final_columns.csv', index=False)\n"
   ]
  },
  {
   "cell_type": "code",
   "execution_count": null,
   "id": "75e41174",
   "metadata": {},
   "outputs": [],
   "source": []
  },
  {
   "cell_type": "markdown",
   "id": "18b58d55",
   "metadata": {},
   "source": [
    "## feature selection"
   ]
  },
  {
   "cell_type": "code",
   "execution_count": 81,
   "id": "41a88564",
   "metadata": {},
   "outputs": [],
   "source": [
    "X = train_flag.drop(['uid', 'TARGET'], axis=1)\n",
    "y = train_flag['TARGET']"
   ]
  },
  {
   "cell_type": "code",
   "execution_count": 82,
   "id": "0a8942b6",
   "metadata": {},
   "outputs": [],
   "source": [
    "chi2_selector = SelectKBest(chi2, k='all')  # Change k to the number of features you want to select\n",
    "chi2_selector.fit(X, y)\n",
    "\n",
    "chi_scores = chi2_selector.scores_"
   ]
  },
  {
   "cell_type": "code",
   "execution_count": 83,
   "id": "ab45ed88",
   "metadata": {},
   "outputs": [],
   "source": [
    "# Create a DataFrame to view scores and features\n",
    "p_values = pd.DataFrame()\n",
    "p_values['feature'] = X.columns\n",
    "p_values['chi2_score'] = chi_scores\n",
    "p_values['p_value'] = chi2_selector.pvalues_"
   ]
  },
  {
   "cell_type": "code",
   "execution_count": 91,
   "id": "c40a60f2",
   "metadata": {},
   "outputs": [],
   "source": [
    "p_values.sort_values(by='chi2_score', ascending=False, inplace=True)\n",
    "\n",
    "# Display the results\n",
    "\n",
    "features_to_keep = list(p_values[p_values['p_value'] > 0.001]['feature'])\n",
    "\n",
    "# Filter your encoded DataFrame to keep only these features\n",
    "train_filtered = train_flag[['uid', 'TARGET']+features_to_keep]"
   ]
  },
  {
   "cell_type": "code",
   "execution_count": null,
   "id": "c339f674",
   "metadata": {},
   "outputs": [],
   "source": []
  },
  {
   "cell_type": "code",
   "execution_count": 77,
   "id": "ebf4a0a6",
   "metadata": {},
   "outputs": [],
   "source": [
    "\n",
    "import pandas as pd\n",
    "from sklearn.model_selection import train_test_split\n",
    "from sklearn.feature_selection import RFECV\n",
    "from sklearn.ensemble import RandomForestClassifier\n",
    "from sklearn.metrics import accuracy_score"
   ]
  },
  {
   "cell_type": "code",
   "execution_count": 105,
   "id": "e1fe7f35",
   "metadata": {},
   "outputs": [],
   "source": [
    "X = train_flag.drop(['uid', 'TARGET'], axis=1)\n",
    "y = train_flag['TARGET']\n",
    "\n",
    "# Splitting the dataset into training and testing sets\n",
    "X_train, X_test, y_train, y_test = train_test_split(X, y, test_size=0.3, random_state=42)"
   ]
  },
  {
   "cell_type": "code",
   "execution_count": 106,
   "id": "1c979c05",
   "metadata": {},
   "outputs": [],
   "source": [
    "import logging\n",
    "logging.basicConfig(level=logging.INFO, format='%(asctime)s - %(levelname)s - %(message)s')\n",
    "from sklearn.ensemble import RandomForestClassifier\n",
    "from sklearn.base import clone"
   ]
  },
  {
   "cell_type": "code",
   "execution_count": null,
   "id": "ddabf861",
   "metadata": {},
   "outputs": [],
   "source": []
  },
  {
   "cell_type": "code",
   "execution_count": null,
   "id": "37a11d99",
   "metadata": {},
   "outputs": [],
   "source": [
    "estimator = RandomForestClassifier(n_estimators=100, max_depth=20, class_weight='balanced', \n",
    "                                max_features=30, random_state=42, n_jobs=-1)\n",
    "selector = RFECV(estimator, step=5, cv=10, n_jobs=-1)\n",
    "selector = selector.fit(X_train, y_train)"
   ]
  },
  {
   "cell_type": "code",
   "execution_count": null,
   "id": "23dc871d",
   "metadata": {},
   "outputs": [],
   "source": [
    "selected_features = pd.DataFrame({'Feature': list(X.columns),\n",
    "                                  'Support': selector.support_,\n",
    "                                  'Ranking': selector.ranking_})\n",
    "print(selected_features.sort_values(by='Ranking'))"
   ]
  },
  {
   "cell_type": "code",
   "execution_count": null,
   "id": "6798a6c9",
   "metadata": {},
   "outputs": [],
   "source": [
    "features_to_keep = list(p_values[p_values['p_value'] > 0.001]['feature'])\n",
    "\n",
    "# Filter your encoded DataFrame to keep only these features\n",
    "train_filtered = train_flag[['uid', 'TARGET']+features_to_keep]\n"
   ]
  },
  {
   "cell_type": "code",
   "execution_count": 137,
   "id": "5bfd66ae",
   "metadata": {},
   "outputs": [
    {
     "data": {
      "text/plain": [
       "Index(['uid', 'TARGET', 'NAME_CONTRACT_TYPE_Cash loans',\n",
       "       'NAME_CONTRACT_TYPE_Revolving loans',\n",
       "       'enquiry_type_count_Another type of loan',\n",
       "       'enquiry_type_count_Car loan',\n",
       "       'enquiry_type_count_Cash loan non-earmarked',\n",
       "       'enquiry_type_count_Cash loans', 'enquiry_type_count_Consumer credit',\n",
       "       'enquiry_type_count_Credit card', 'enquiry_type_count_Interbank credit',\n",
       "       'enquiry_type_count_Loan for business development',\n",
       "       'enquiry_type_count_Loan for purchase of shares margin lending',\n",
       "       'enquiry_type_count_Loan for the purchase of equipment',\n",
       "       'enquiry_type_count_Loan for working capital replenishment',\n",
       "       'enquiry_type_count_Microloan',\n",
       "       'enquiry_type_count_Mobile operator loan',\n",
       "       'enquiry_type_count_Mortgage', 'enquiry_type_count_Real estate loan',\n",
       "       'enquiry_type_count_Revolving loans',\n",
       "       'enquiry_type_count_Unknown type of loan', 'sum', 'median', 'mean',\n",
       "       'max', 'min_x', 'count_x', 'days_since_enquiry_time_ mean',\n",
       "       'days_since_enquiry_time_ max', 'enquiry_month_ ', 'enquiry_quarter_ ',\n",
       "       'enquiry_year_ ', 'enquiry_on_weekend_ sum',\n",
       "       'credit_type_count_Another type of loan', 'credit_type_count_Car loan',\n",
       "       'credit_type_count_Cash loan non-earmarked',\n",
       "       'credit_type_count_Consumer credit', 'credit_type_count_Credit card',\n",
       "       'credit_type_count_Interbank credit',\n",
       "       'credit_type_count_Loan for business development',\n",
       "       'credit_type_count_Loan for purchase of shares margin lending',\n",
       "       'credit_type_count_Loan for the purchase of equipment',\n",
       "       'credit_type_count_Loan for working capital replenishment',\n",
       "       'credit_type_count_Microloan', 'credit_type_count_Mortgage',\n",
       "       'credit_type_count_Real estate loan',\n",
       "       'credit_type_count_Unknown type of loan', 'sum_x', 'median_x', 'mean_x',\n",
       "       'max_x', 'min_y', 'count_y', 'sum_y', 'median_y', 'mean_y', 'max_y',\n",
       "       '_0', '_1', 'recent_delinquency_ mean', 'recent_delinquency_ median',\n",
       "       'recent_delinquency_ max', 'recent_delinquency_ min',\n",
       "       'max_delinquency_ mean', 'max_delinquency_ median',\n",
       "       'max_delinquency_ max', 'max_delinquency_ min', 'avg_delinquency_ mean',\n",
       "       'avg_delinquency_ median', 'late_payments_ sum',\n",
       "       'late_payments_ median', 'late_payments_ mean',\n",
       "       'consecutive_ontime_payments_ mean',\n",
       "       'consecutive_ontime_payments_ median',\n",
       "       'consecutive_ontime_payments_ max', 'consecutive_ontime_payments_ min',\n",
       "       'total_payments_ sum', 'total_payments_ median', 'total_payments_ mean',\n",
       "       'zero_delinquency_months_ sum', 'zero_delinquency_months_ median',\n",
       "       'zero_delinquency_months_ mean', 'late_payment_proportion_ mean',\n",
       "       'late_payment_proportion_ median', 'delinquency_std_dev_ mean',\n",
       "       'delinquency_std_dev_ median', 'is_active_ sum',\n",
       "       'opened_on_holiday_ sum', 'closed_on_holiday_ sum',\n",
       "       'loan_duration_ mean', 'loan_duration_ sum', 'loan_duration_ max',\n",
       "       'time_since_opened_ mean', 'time_since_opened_ max', 'open_month_ ',\n",
       "       'open_quarter_ ', 'open_year_ ', 'opened_on_weekend_ sum'],\n",
       "      dtype='object')"
      ]
     },
     "execution_count": 137,
     "metadata": {},
     "output_type": "execute_result"
    }
   ],
   "source": [
    "train_filtered.columns"
   ]
  },
  {
   "cell_type": "markdown",
   "id": "e152b26d",
   "metadata": {},
   "source": [
    "## models"
   ]
  },
  {
   "cell_type": "code",
   "execution_count": 95,
   "id": "fc4c80e9",
   "metadata": {},
   "outputs": [],
   "source": [
    "X = train_filtered.drop(['uid', 'TARGET'], axis=1)\n",
    "y = train_filtered['TARGET']  \n",
    "X_train, X_test, y_train, y_test = train_test_split(X, y, test_size=0.2, random_state=42)"
   ]
  },
  {
   "cell_type": "code",
   "execution_count": 156,
   "id": "8e970cd4",
   "metadata": {},
   "outputs": [],
   "source": [
    "param_grids = {\n",
    "    'RandomForest': {\n",
    "    'n_estimators': [100, 200, 500, 1000],\n",
    "    'max_depth': [10, 20, 30, 100],\n",
    "    'min_samples_split': [2, 5, 10],\n",
    "    'min_samples_leaf': [1, 2, 4],\n",
    "    'bootstrap': [True, False],\n",
    "    'class_weight': ['balanced', 'balanced_subsample']},  # As per above suggestions\n",
    "    'AdaBoost': {\n",
    "    'n_estimators': [50, 100, 200, 500],\n",
    "    'learning_rate': [0.01, 0.05, 0.1, 0.3, 1],\n",
    "    'algorithm': ['SAMME', 'SAMME.R']},\n",
    "    'XGBoost': {\n",
    "    'n_estimators': [100, 200, 500, 1000],\n",
    "    'learning_rate': [0.01, 0.05, 0.1, 0.2],\n",
    "    'max_depth': [3, 6, 10, 15],\n",
    "    'subsample': [0.5, 0.7, 1.0],\n",
    "    'colsample_bytree': [0.5, 0.7, 1.0],\n",
    "    'scale_pos_weight': [(len(y) - sum(y)) / sum(y)] # Adjust for imbalance\n",
    "}\n",
    "\n",
    "}"
   ]
  },
  {
   "cell_type": "code",
   "execution_count": 100,
   "id": "7afb0e55",
   "metadata": {},
   "outputs": [],
   "source": [
    "models = { \n",
    "    'RandomForest': RandomForestClassifier,\n",
    "    'XGBoost': XGBClassifier ,\n",
    "    'AdaBoost': AdaBoostClassifier   \n",
    "}\n"
   ]
  },
  {
   "cell_type": "code",
   "execution_count": 101,
   "id": "af258ed4",
   "metadata": {},
   "outputs": [],
   "source": [
    "stratified_kfold = StratifiedKFold(n_splits=5, shuffle=True, random_state=42)"
   ]
  },
  {
   "cell_type": "code",
   "execution_count": 102,
   "id": "64d12da5",
   "metadata": {},
   "outputs": [],
   "source": [
    "best_models = {}"
   ]
  },
  {
   "cell_type": "code",
   "execution_count": 103,
   "id": "04c684c2",
   "metadata": {},
   "outputs": [],
   "source": [
    "import itertools"
   ]
  },
  {
   "cell_type": "code",
   "execution_count": null,
   "id": "f9b5b599",
   "metadata": {},
   "outputs": [],
   "source": [
    "for model_name, model_class in models.items():\n",
    "    keys, values = zip(*param_grids[model_name].items())\n",
    "    param_combinations = [dict(zip(keys, v)) for v in itertools.product(*values)]\n",
    "\n",
    "    best_roc_auc = 0\n",
    "    best_params = None\n",
    "    best_model = None\n",
    "\n",
    "    for params in param_combinations:\n",
    "        model = model_class(**params)\n",
    "        roc_auc_scores = []\n",
    "\n",
    "        for train_index, test_index in stratified_kfold.split(X_train, y_train):\n",
    "            X_train_fold, X_test_fold = X_train.iloc[train_index], X_train.iloc[test_index]\n",
    "            y_train_fold, y_test_fold = y_train.iloc[train_index], y_train.iloc[test_index]\n",
    "\n",
    "            model.fit(X_train_fold, y_train_fold)\n",
    "            y_pred_fold = model.predict_proba(X_test_fold)[:, 1]\n",
    "            roc_auc_fold = roc_auc_score(y_test_fold, y_pred_fold)\n",
    "            roc_auc_scores.append(roc_auc_fold)\n",
    "\n",
    "        avg_roc_auc = np.mean(roc_auc_scores)\n",
    "        print(f\"ROC AUC for {model_name} with params {params}: {avg_roc_auc}\")\n",
    "\n",
    "        if avg_roc_auc > best_roc_auc:\n",
    "            best_roc_auc = avg_roc_auc\n",
    "            best_params = params\n",
    "            best_model = model\n",
    "\n",
    "    best_models[model_name] = {'model': best_model, 'params': best_params, 'roc_auc': best_roc_auc}\n"
   ]
  },
  {
   "cell_type": "code",
   "execution_count": 179,
   "id": "4deb454a",
   "metadata": {},
   "outputs": [],
   "source": [
    "X = train_filtered.drop(['uid', 'TARGET'], axis=1)\n",
    "y = train_filtered['TARGET']  \n",
    "X_train, X_test, y_train, y_test = train_test_split(X, y, test_size=0.2, random_state=7)"
   ]
  },
  {
   "cell_type": "code",
   "execution_count": 171,
   "id": "210b3892",
   "metadata": {},
   "outputs": [
    {
     "data": {
      "text/plain": [
       "{'RandomForest': {'model': sklearn.ensemble._forest.RandomForestClassifier,\n",
       "  'params': {'n_estimators': 200,\n",
       "   'max_depth': 20,\n",
       "   'min_samples_split': 10,\n",
       "   'min_samples_leaf': 4,\n",
       "   'bootstrap': True,\n",
       "   'class_weight': 'balanced'},\n",
       "  'roc_auc': 0.6683215343453454},\n",
       " 'AdaBoost': {'model': sklearn.ensemble._weight_boosting.AdaBoostClassifier,\n",
       "  'params': {'n_estimators': 50, 'learning_rate': 0.01, 'algorithm': 'SAMME'},\n",
       "  'roc_auc': 0.6123246890429814},\n",
       " 'XGBoost': {'model': xgboost.sklearn.XGBClassifier,\n",
       "  'params': {'n_estimators': 200,\n",
       "   'learning_rate': 0.05,\n",
       "   'max_depth': 10,\n",
       "   'subsample': 0.5,\n",
       "   'colsample_bytree': 0.5,\n",
       "   'scale_pos_weight': 11.41311677826851},\n",
       "  'roc_auc': 0.683419481490242}}"
      ]
     },
     "execution_count": 171,
     "metadata": {},
     "output_type": "execute_result"
    }
   ],
   "source": [
    "best_models"
   ]
  },
  {
   "cell_type": "code",
   "execution_count": 181,
   "id": "4b48d916",
   "metadata": {},
   "outputs": [],
   "source": [
    "xgboost_params = best_models['XGBoost']['params']\n",
    "xgboost_model_class = best_models['XGBoost']['model']"
   ]
  },
  {
   "cell_type": "code",
   "execution_count": 182,
   "id": "fce08d58",
   "metadata": {},
   "outputs": [],
   "source": [
    "final_model = xgboost_model_class(**xgboost_params)"
   ]
  },
  {
   "cell_type": "code",
   "execution_count": 183,
   "id": "e777aa26",
   "metadata": {},
   "outputs": [
    {
     "data": {
      "text/html": [
       "<style>#sk-container-id-6 {color: black;}#sk-container-id-6 pre{padding: 0;}#sk-container-id-6 div.sk-toggleable {background-color: white;}#sk-container-id-6 label.sk-toggleable__label {cursor: pointer;display: block;width: 100%;margin-bottom: 0;padding: 0.3em;box-sizing: border-box;text-align: center;}#sk-container-id-6 label.sk-toggleable__label-arrow:before {content: \"▸\";float: left;margin-right: 0.25em;color: #696969;}#sk-container-id-6 label.sk-toggleable__label-arrow:hover:before {color: black;}#sk-container-id-6 div.sk-estimator:hover label.sk-toggleable__label-arrow:before {color: black;}#sk-container-id-6 div.sk-toggleable__content {max-height: 0;max-width: 0;overflow: hidden;text-align: left;background-color: #f0f8ff;}#sk-container-id-6 div.sk-toggleable__content pre {margin: 0.2em;color: black;border-radius: 0.25em;background-color: #f0f8ff;}#sk-container-id-6 input.sk-toggleable__control:checked~div.sk-toggleable__content {max-height: 200px;max-width: 100%;overflow: auto;}#sk-container-id-6 input.sk-toggleable__control:checked~label.sk-toggleable__label-arrow:before {content: \"▾\";}#sk-container-id-6 div.sk-estimator input.sk-toggleable__control:checked~label.sk-toggleable__label {background-color: #d4ebff;}#sk-container-id-6 div.sk-label input.sk-toggleable__control:checked~label.sk-toggleable__label {background-color: #d4ebff;}#sk-container-id-6 input.sk-hidden--visually {border: 0;clip: rect(1px 1px 1px 1px);clip: rect(1px, 1px, 1px, 1px);height: 1px;margin: -1px;overflow: hidden;padding: 0;position: absolute;width: 1px;}#sk-container-id-6 div.sk-estimator {font-family: monospace;background-color: #f0f8ff;border: 1px dotted black;border-radius: 0.25em;box-sizing: border-box;margin-bottom: 0.5em;}#sk-container-id-6 div.sk-estimator:hover {background-color: #d4ebff;}#sk-container-id-6 div.sk-parallel-item::after {content: \"\";width: 100%;border-bottom: 1px solid gray;flex-grow: 1;}#sk-container-id-6 div.sk-label:hover label.sk-toggleable__label {background-color: #d4ebff;}#sk-container-id-6 div.sk-serial::before {content: \"\";position: absolute;border-left: 1px solid gray;box-sizing: border-box;top: 0;bottom: 0;left: 50%;z-index: 0;}#sk-container-id-6 div.sk-serial {display: flex;flex-direction: column;align-items: center;background-color: white;padding-right: 0.2em;padding-left: 0.2em;position: relative;}#sk-container-id-6 div.sk-item {position: relative;z-index: 1;}#sk-container-id-6 div.sk-parallel {display: flex;align-items: stretch;justify-content: center;background-color: white;position: relative;}#sk-container-id-6 div.sk-item::before, #sk-container-id-6 div.sk-parallel-item::before {content: \"\";position: absolute;border-left: 1px solid gray;box-sizing: border-box;top: 0;bottom: 0;left: 50%;z-index: -1;}#sk-container-id-6 div.sk-parallel-item {display: flex;flex-direction: column;z-index: 1;position: relative;background-color: white;}#sk-container-id-6 div.sk-parallel-item:first-child::after {align-self: flex-end;width: 50%;}#sk-container-id-6 div.sk-parallel-item:last-child::after {align-self: flex-start;width: 50%;}#sk-container-id-6 div.sk-parallel-item:only-child::after {width: 0;}#sk-container-id-6 div.sk-dashed-wrapped {border: 1px dashed gray;margin: 0 0.4em 0.5em 0.4em;box-sizing: border-box;padding-bottom: 0.4em;background-color: white;}#sk-container-id-6 div.sk-label label {font-family: monospace;font-weight: bold;display: inline-block;line-height: 1.2em;}#sk-container-id-6 div.sk-label-container {text-align: center;}#sk-container-id-6 div.sk-container {/* jupyter's `normalize.less` sets `[hidden] { display: none; }` but bootstrap.min.css set `[hidden] { display: none !important; }` so we also need the `!important` here to be able to override the default hidden behavior on the sphinx rendered scikit-learn.org. See: https://github.com/scikit-learn/scikit-learn/issues/21755 */display: inline-block !important;position: relative;}#sk-container-id-6 div.sk-text-repr-fallback {display: none;}</style><div id=\"sk-container-id-6\" class=\"sk-top-container\"><div class=\"sk-text-repr-fallback\"><pre>XGBClassifier(base_score=None, booster=None, callbacks=None,\n",
       "              colsample_bylevel=None, colsample_bynode=None,\n",
       "              colsample_bytree=0.5, device=None, early_stopping_rounds=None,\n",
       "              enable_categorical=False, eval_metric=None, feature_types=None,\n",
       "              gamma=None, grow_policy=None, importance_type=None,\n",
       "              interaction_constraints=None, learning_rate=0.05, max_bin=None,\n",
       "              max_cat_threshold=None, max_cat_to_onehot=None,\n",
       "              max_delta_step=None, max_depth=10, max_leaves=None,\n",
       "              min_child_weight=None, missing=nan, monotone_constraints=None,\n",
       "              multi_strategy=None, n_estimators=200, n_jobs=None,\n",
       "              num_parallel_tree=None, random_state=None, ...)</pre><b>In a Jupyter environment, please rerun this cell to show the HTML representation or trust the notebook. <br />On GitHub, the HTML representation is unable to render, please try loading this page with nbviewer.org.</b></div><div class=\"sk-container\" hidden><div class=\"sk-item\"><div class=\"sk-estimator sk-toggleable\"><input class=\"sk-toggleable__control sk-hidden--visually\" id=\"sk-estimator-id-6\" type=\"checkbox\" checked><label for=\"sk-estimator-id-6\" class=\"sk-toggleable__label sk-toggleable__label-arrow\">XGBClassifier</label><div class=\"sk-toggleable__content\"><pre>XGBClassifier(base_score=None, booster=None, callbacks=None,\n",
       "              colsample_bylevel=None, colsample_bynode=None,\n",
       "              colsample_bytree=0.5, device=None, early_stopping_rounds=None,\n",
       "              enable_categorical=False, eval_metric=None, feature_types=None,\n",
       "              gamma=None, grow_policy=None, importance_type=None,\n",
       "              interaction_constraints=None, learning_rate=0.05, max_bin=None,\n",
       "              max_cat_threshold=None, max_cat_to_onehot=None,\n",
       "              max_delta_step=None, max_depth=10, max_leaves=None,\n",
       "              min_child_weight=None, missing=nan, monotone_constraints=None,\n",
       "              multi_strategy=None, n_estimators=200, n_jobs=None,\n",
       "              num_parallel_tree=None, random_state=None, ...)</pre></div></div></div></div></div>"
      ],
      "text/plain": [
       "XGBClassifier(base_score=None, booster=None, callbacks=None,\n",
       "              colsample_bylevel=None, colsample_bynode=None,\n",
       "              colsample_bytree=0.5, device=None, early_stopping_rounds=None,\n",
       "              enable_categorical=False, eval_metric=None, feature_types=None,\n",
       "              gamma=None, grow_policy=None, importance_type=None,\n",
       "              interaction_constraints=None, learning_rate=0.05, max_bin=None,\n",
       "              max_cat_threshold=None, max_cat_to_onehot=None,\n",
       "              max_delta_step=None, max_depth=10, max_leaves=None,\n",
       "              min_child_weight=None, missing=nan, monotone_constraints=None,\n",
       "              multi_strategy=None, n_estimators=200, n_jobs=None,\n",
       "              num_parallel_tree=None, random_state=None, ...)"
      ]
     },
     "execution_count": 183,
     "metadata": {},
     "output_type": "execute_result"
    }
   ],
   "source": [
    "final_model.fit(X_train, y_train)"
   ]
  },
  {
   "cell_type": "code",
   "execution_count": 184,
   "id": "e263a4d5",
   "metadata": {},
   "outputs": [],
   "source": [
    "y_pred_proba = final_model.predict_proba(X_test)[:, 1]\n"
   ]
  },
  {
   "cell_type": "code",
   "execution_count": 186,
   "id": "01df64fa",
   "metadata": {},
   "outputs": [],
   "source": [
    "final_model.save_model('/Users/adityakadiyan/Desktop/monsoon_credit/my_xgboost_model.json')"
   ]
  },
  {
   "cell_type": "code",
   "execution_count": 192,
   "id": "d02cdfcb",
   "metadata": {},
   "outputs": [],
   "source": [
    "model_feature_names = final_model.get_booster().feature_names"
   ]
  },
  {
   "cell_type": "code",
   "execution_count": 193,
   "id": "86819f89",
   "metadata": {},
   "outputs": [],
   "source": [
    "folder_path = '/Users/adityakadiyan/Desktop/monsoon_credit/'  # Replace with your folder path\n",
    "\n",
    "# Create the directory if it does not exist\n",
    "if not os.path.exists(folder_path):\n",
    "    os.makedirs(folder_path)\n",
    "\n",
    "# File path\n",
    "file_path = os.path.join(folder_path, 'model_feature_names.txt')\n",
    "\n",
    "# Write the list to a file\n",
    "with open(file_path, 'w') as file:\n",
    "    for item in model_feature_names:\n",
    "        file.write(\"%s\\n\" % item)"
   ]
  },
  {
   "cell_type": "code",
   "execution_count": null,
   "id": "3c7b65df",
   "metadata": {},
   "outputs": [],
   "source": []
  }
 ],
 "metadata": {
  "kernelspec": {
   "display_name": "Python 3 (ipykernel)",
   "language": "python",
   "name": "python3"
  },
  "language_info": {
   "codemirror_mode": {
    "name": "ipython",
    "version": 3
   },
   "file_extension": ".py",
   "mimetype": "text/x-python",
   "name": "python",
   "nbconvert_exporter": "python",
   "pygments_lexer": "ipython3",
   "version": "3.9.7"
  }
 },
 "nbformat": 4,
 "nbformat_minor": 5
}
